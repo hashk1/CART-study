{
 "cells": [
  {
   "cell_type": "code",
   "execution_count": 1,
   "metadata": {
    "collapsed": true,
    "deletable": true,
    "editable": true
   },
   "outputs": [],
   "source": [
    "import numpy as np\n",
    "import pandas as pd\n",
    "from graphviz import Digraph\n",
    "from sklearn.tree import DecisionTreeClassifier"
   ]
  },
  {
   "cell_type": "code",
   "execution_count": 2,
   "metadata": {
    "collapsed": true,
    "deletable": true,
    "editable": true
   },
   "outputs": [],
   "source": [
    "# グラフの設定\n",
    "G = Digraph(format='png')\n",
    "G.attr('node', shape='square')"
   ]
  },
  {
   "cell_type": "code",
   "execution_count": 3,
   "metadata": {
    "collapsed": false,
    "deletable": true,
    "editable": true
   },
   "outputs": [],
   "source": [
    "# タイタニックデータを読む\n",
    "df = pd.read_csv(\"train.csv\")"
   ]
  },
  {
   "cell_type": "code",
   "execution_count": 4,
   "metadata": {
    "collapsed": false,
    "deletable": true,
    "editable": true
   },
   "outputs": [],
   "source": [
    "df.drop([\"PassengerId\", \"Name\", \"Ticket\"], axis = 1, inplace = True)\n",
    "df.dropna(axis = 0, inplace = True)"
   ]
  },
  {
   "cell_type": "code",
   "execution_count": 5,
   "metadata": {
    "collapsed": true,
    "deletable": true,
    "editable": true
   },
   "outputs": [],
   "source": [
    "df[\"Survived\"] = df[\"Survived\"].apply(str)\n",
    "df[\"Pclass\"] = df[\"Pclass\"].apply(str)\n",
    "df[\"SibSp\"] = df[\"SibSp\"].apply(str)\n",
    "df[\"Parch\"] = df[\"Parch\"].apply(str)"
   ]
  },
  {
   "cell_type": "code",
   "execution_count": 6,
   "metadata": {
    "collapsed": false,
    "deletable": true,
    "editable": true
   },
   "outputs": [
    {
     "data": {
      "text/html": [
       "<div>\n",
       "<table border=\"1\" class=\"dataframe\">\n",
       "  <thead>\n",
       "    <tr style=\"text-align: right;\">\n",
       "      <th></th>\n",
       "      <th>Survived</th>\n",
       "      <th>Pclass</th>\n",
       "      <th>Sex</th>\n",
       "      <th>Age</th>\n",
       "      <th>SibSp</th>\n",
       "      <th>Parch</th>\n",
       "      <th>Fare</th>\n",
       "      <th>Cabin</th>\n",
       "      <th>Embarked</th>\n",
       "    </tr>\n",
       "  </thead>\n",
       "  <tbody>\n",
       "    <tr>\n",
       "      <th>1</th>\n",
       "      <td>1</td>\n",
       "      <td>1</td>\n",
       "      <td>female</td>\n",
       "      <td>38.0</td>\n",
       "      <td>1</td>\n",
       "      <td>0</td>\n",
       "      <td>71.2833</td>\n",
       "      <td>C85</td>\n",
       "      <td>C</td>\n",
       "    </tr>\n",
       "    <tr>\n",
       "      <th>3</th>\n",
       "      <td>1</td>\n",
       "      <td>1</td>\n",
       "      <td>female</td>\n",
       "      <td>35.0</td>\n",
       "      <td>1</td>\n",
       "      <td>0</td>\n",
       "      <td>53.1000</td>\n",
       "      <td>C123</td>\n",
       "      <td>S</td>\n",
       "    </tr>\n",
       "    <tr>\n",
       "      <th>6</th>\n",
       "      <td>0</td>\n",
       "      <td>1</td>\n",
       "      <td>male</td>\n",
       "      <td>54.0</td>\n",
       "      <td>0</td>\n",
       "      <td>0</td>\n",
       "      <td>51.8625</td>\n",
       "      <td>E46</td>\n",
       "      <td>S</td>\n",
       "    </tr>\n",
       "    <tr>\n",
       "      <th>10</th>\n",
       "      <td>1</td>\n",
       "      <td>3</td>\n",
       "      <td>female</td>\n",
       "      <td>4.0</td>\n",
       "      <td>1</td>\n",
       "      <td>1</td>\n",
       "      <td>16.7000</td>\n",
       "      <td>G6</td>\n",
       "      <td>S</td>\n",
       "    </tr>\n",
       "    <tr>\n",
       "      <th>11</th>\n",
       "      <td>1</td>\n",
       "      <td>1</td>\n",
       "      <td>female</td>\n",
       "      <td>58.0</td>\n",
       "      <td>0</td>\n",
       "      <td>0</td>\n",
       "      <td>26.5500</td>\n",
       "      <td>C103</td>\n",
       "      <td>S</td>\n",
       "    </tr>\n",
       "  </tbody>\n",
       "</table>\n",
       "</div>"
      ],
      "text/plain": [
       "   Survived Pclass     Sex   Age SibSp Parch     Fare Cabin Embarked\n",
       "1         1      1  female  38.0     1     0  71.2833   C85        C\n",
       "3         1      1  female  35.0     1     0  53.1000  C123        S\n",
       "6         0      1    male  54.0     0     0  51.8625   E46        S\n",
       "10        1      3  female   4.0     1     1  16.7000    G6        S\n",
       "11        1      1  female  58.0     0     0  26.5500  C103        S"
      ]
     },
     "execution_count": 6,
     "metadata": {},
     "output_type": "execute_result"
    }
   ],
   "source": [
    "df.head()"
   ]
  },
  {
   "cell_type": "code",
   "execution_count": 7,
   "metadata": {
    "collapsed": false,
    "deletable": true,
    "editable": true
   },
   "outputs": [
    {
     "data": {
      "text/plain": [
       "(183, 9)"
      ]
     },
     "execution_count": 7,
     "metadata": {},
     "output_type": "execute_result"
    }
   ],
   "source": [
    "df.shape"
   ]
  },
  {
   "cell_type": "code",
   "execution_count": 8,
   "metadata": {
    "collapsed": true,
    "deletable": true,
    "editable": true
   },
   "outputs": [],
   "source": [
    "# 生存者数と死亡者数を数える\n",
    "def count_survived(_df):\n",
    "    nos = _df.query(\"Survived == '1'\").shape[0]\n",
    "    nod = _df.query(\"Survived == '0'\").shape[0]\n",
    "    return nos, nod"
   ]
  },
  {
   "cell_type": "code",
   "execution_count": 9,
   "metadata": {
    "collapsed": false,
    "deletable": true,
    "editable": true
   },
   "outputs": [],
   "source": [
    "# ジニ係数の計算\n",
    "def calc_gini(_df):\n",
    "    nos, nod = count_survived(_df)\n",
    "    pos = float(nos) / (nos + nod)\n",
    "    return 2 * pos * (1 - pos)"
   ]
  },
  {
   "cell_type": "code",
   "execution_count": 10,
   "metadata": {
    "collapsed": false,
    "deletable": true,
    "editable": true
   },
   "outputs": [
    {
     "data": {
      "text/plain": [
       "0.44074173609244827"
      ]
     },
     "execution_count": 10,
     "metadata": {},
     "output_type": "execute_result"
    }
   ],
   "source": [
    "# ジニ係数を求める\n",
    "gini = calc_gini(df)\n",
    "gini"
   ]
  },
  {
   "cell_type": "code",
   "execution_count": 11,
   "metadata": {
    "collapsed": false,
    "deletable": true,
    "editable": true
   },
   "outputs": [
    {
     "data": {
      "text/plain": [
       "(123, 60)"
      ]
     },
     "execution_count": 11,
     "metadata": {},
     "output_type": "execute_result"
    }
   ],
   "source": [
    "# 生存者数と死亡者数\n",
    "nos, nod = count_survived(df)\n",
    "nos, nod"
   ]
  },
  {
   "cell_type": "code",
   "execution_count": 12,
   "metadata": {
    "collapsed": true,
    "deletable": true,
    "editable": true
   },
   "outputs": [],
   "source": [
    "igs = {}\n",
    "for f in df.columns[1:]:\n",
    "    igs[f] = 0"
   ]
  },
  {
   "cell_type": "code",
   "execution_count": 13,
   "metadata": {
    "collapsed": false,
    "deletable": true,
    "editable": true
   },
   "outputs": [],
   "source": [
    "# ジニ係数が最小になるような分割方法を見つける（再帰バージョン）\n",
    "def get_best_division(_df, depth = 1):\n",
    "    \n",
    "    # df のポインタをとっておく\n",
    "    name = str(id(_df))\n",
    "    \n",
    "    # パラメータの初期化\n",
    "    max_ig = 0\n",
    "    max_feature = \"nothing\"\n",
    "    max_value = \"nothing\"\n",
    "    \n",
    "    # 情報利得の初期化\n",
    "    _igs = {}\n",
    "    for f in df.columns[1:]:\n",
    "        _igs[f] = 0\n",
    "    \n",
    "    # ジニ係数と生存者数・死亡者数の計算\n",
    "    gini = calc_gini(_df)\n",
    "    nos, nod = count_survived(_df)\n",
    "    \n",
    "    # 最後だったら生存者数と死亡者数のみ返す\n",
    "    if depth > 3:\n",
    "        print(\"end of tree\")\n",
    "        info = \"%d vs %d\" % (nos, nod)\n",
    "        G.node(name, info)\n",
    "        return _igs\n",
    "    \n",
    "    for f in df.columns[1:]:\n",
    "        vals = _df[f].drop_duplicates().values\n",
    "        vals = sorted(vals)\n",
    "        n = len(vals)\n",
    "        \n",
    "        # カテゴリカル・データの場合\n",
    "        if _df[f].dtype == np.object:\n",
    "            for val in vals:\n",
    "                tmp0 = _df[_df[f] == val]\n",
    "                n0 = len(tmp0)\n",
    "                tmp1 = _df[_df[f] != val]\n",
    "                n1 = len(tmp1)\n",
    "                if n0 * n1 == 0:\n",
    "                    continue\n",
    "                gini0 = calc_gini(tmp0)\n",
    "                gini1 = calc_gini(tmp1)\n",
    "                ig = gini - (n0 * gini0 + n1 * gini1) / (n0 + n1)\n",
    "                if ig > max_ig:\n",
    "                    max_ig = ig\n",
    "                    max_feature = f\n",
    "                    max_value = val\n",
    "                \n",
    "        # 数値データの場合\n",
    "        else:\n",
    "            for val in vals[1:]:\n",
    "                tmp0 = _df[_df[f] >= val]\n",
    "                n0 = len(tmp0)\n",
    "                tmp1 = _df[_df[f] < val]\n",
    "                n1 = len(tmp1)\n",
    "                if n0 * n1 == 0:\n",
    "                    continue\n",
    "                gini0 = calc_gini(tmp0)\n",
    "                gini1 = calc_gini(tmp1)\n",
    "                ig = gini - (n0 * gini0 + n1 * gini1) / (n0 + n1)\n",
    "                if ig > max_ig:\n",
    "                    max_ig = ig\n",
    "                    max_feature = f\n",
    "                    max_value = val\n",
    "    \n",
    "    # 結果表示\n",
    "    print(\"IG: %f feature: %s value: %s\" % ( max_ig, max_feature, str(max_value)))\n",
    "    # 分割する\n",
    "    \n",
    "    info = \"\"\n",
    "    # 分割されなかった場合\n",
    "    if max_feature == \"nothing\":\n",
    "        info = \"%d vs %d\" % (nos, nod)\n",
    "        G.node(name, info)\n",
    "        return  _igs\n",
    "  \n",
    "    _df0 = \"\"\n",
    "    _df1 = \"\"\n",
    "    \n",
    "    # カテゴリカル・データの場合\n",
    "    if _df[max_feature].dtype == np.object:\n",
    "        _df0 = _df[_df[max_feature] == max_value]\n",
    "        _df1 = _df[_df[max_feature] != max_value]\n",
    "        info = \"%s is %s\\n\\n%d vs %d\" % (max_feature, max_value, nos, nod)\n",
    "    # 数値データの場合   \n",
    "    else: \n",
    "        _df0 = _df[_df[max_feature] >= max_value]\n",
    "        _df1 = _df[_df[max_feature] < max_value]\n",
    "        info = \"%s >= %f\\n\\n%d vs %d\" % (max_feature, max_value, nos, nod)\n",
    "    \n",
    "    # グラフの作成\n",
    "    name0 = str(id(_df0))\n",
    "    name1 = str(id(_df1))\n",
    "    G.node(name, info)\n",
    "    G.edge(name, name0)\n",
    "    G.edge(name, name1)\n",
    "    \n",
    "    # 次の枝を作る\n",
    "    _igs0 = get_best_division(_df0, depth + 1)\n",
    "    _igs1 = get_best_division(_df1, depth + 1)\n",
    "    \n",
    "    # 情報利得の集計\n",
    "    for f in df.columns[1:]:\n",
    "        _igs[f] += _igs0[f] + _igs1[f]\n",
    "    \n",
    "    _igs[max_feature] += max_ig * (nos + nod)\n",
    "    \n",
    "    return _igs\n"
   ]
  },
  {
   "cell_type": "code",
   "execution_count": 14,
   "metadata": {
    "collapsed": false,
    "deletable": true,
    "editable": true
   },
   "outputs": [
    {
     "name": "stdout",
     "output_type": "stream",
     "text": [
      "IG: 0.124937 feature: Sex value: female\n",
      "IG: 0.040385 feature: Age value: 4.0\n",
      "IG: 0.021392 feature: Fare value: 10.5\n",
      "end of tree\n",
      "end of tree\n",
      "IG: 0.000000 feature: nothing value: nothing\n",
      "IG: 0.059421 feature: Age value: 18.0\n",
      "IG: 0.024545 feature: Age value: 44.0\n",
      "end of tree\n",
      "end of tree\n",
      "IG: 0.000000 feature: nothing value: nothing\n"
     ]
    }
   ],
   "source": [
    "igs = get_best_division(df, 1)"
   ]
  },
  {
   "cell_type": "code",
   "execution_count": 15,
   "metadata": {
    "collapsed": false,
    "deletable": true,
    "editable": true
   },
   "outputs": [
    {
     "data": {
      "text/plain": [
       "'tree.png'"
      ]
     },
     "execution_count": 15,
     "metadata": {},
     "output_type": "execute_result"
    }
   ],
   "source": [
    "# 決定木の可視化\n",
    "G.render('tree')"
   ]
  },
  {
   "cell_type": "code",
   "execution_count": 16,
   "metadata": {
    "collapsed": false,
    "deletable": true,
    "editable": true
   },
   "outputs": [],
   "source": [
    "# 情報利得の正規化\n",
    "s = 0\n",
    "for f in df.columns[1:]:\n",
    "    s += igs[f]\n",
    "for f in df.columns[1:]:\n",
    "    igs[f] /= s"
   ]
  },
  {
   "cell_type": "code",
   "execution_count": 17,
   "metadata": {
    "collapsed": false,
    "deletable": true,
    "editable": true
   },
   "outputs": [
    {
     "data": {
      "text/plain": [
       "{'Age': 0.3145154042314017,\n",
       " 'Cabin': 0.0,\n",
       " 'Embarked': 0.0,\n",
       " 'Fare': 0.05104899352897298,\n",
       " 'Parch': 0.0,\n",
       " 'Pclass': 0.0,\n",
       " 'Sex': 0.6344356022396254,\n",
       " 'SibSp': 0.0}"
      ]
     },
     "execution_count": 17,
     "metadata": {},
     "output_type": "execute_result"
    }
   ],
   "source": [
    "igs"
   ]
  },
  {
   "cell_type": "code",
   "execution_count": null,
   "metadata": {
    "collapsed": true
   },
   "outputs": [],
   "source": []
  },
  {
   "cell_type": "code",
   "execution_count": null,
   "metadata": {
    "collapsed": true
   },
   "outputs": [],
   "source": []
  }
 ],
 "metadata": {
  "kernelspec": {
   "display_name": "Python 3",
   "language": "python",
   "name": "python3"
  },
  "language_info": {
   "codemirror_mode": {
    "name": "ipython",
    "version": 3
   },
   "file_extension": ".py",
   "mimetype": "text/x-python",
   "name": "python",
   "nbconvert_exporter": "python",
   "pygments_lexer": "ipython3",
   "version": "3.6.5"
  }
 },
 "nbformat": 4,
 "nbformat_minor": 2
}
